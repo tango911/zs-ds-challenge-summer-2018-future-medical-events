{
  "cells": [
    {
      "metadata": {
        "_uuid": "b512cd92f1a11bb5b941b00757da370efe2a6722"
      },
      "cell_type": "markdown",
      "source": "## Problem Statement\nInsurance Plus++, a premium payer, wants to use predictive modeling on healthcare data to predict the occurrence of future events among their covered patients. They want to use existing data about their patients’ previous medical events to predict future events in their patient journey. Events are recorded in the standardized ICD-9 format (details here). In this challenge, the goal is to predict the next 10 events in 2014 for each patient in order of occurrence."
    },
    {
      "metadata": {
        "_uuid": "920a5eaed9c0cab4a4656f69941adc26768e6fc7"
      },
      "cell_type": "markdown",
      "source": "The challenge was organized by zs on Hackerearth and it was open for US citizens.\nI scored 5th rank on leaderboard"
    },
    {
      "metadata": {
        "_uuid": "8f2839f25d086af736a60e9eeb907d3b93b6e0e5",
        "_cell_guid": "b1076dfc-b9ad-4769-8c92-a6c4dae69d19",
        "trusted": true,
        "collapsed": true
      },
      "cell_type": "code",
      "source": "import numpy as np \nimport pandas as pd ",
      "execution_count": 1,
      "outputs": []
    },
    {
      "metadata": {
        "_cell_guid": "79c7e3d0-c299-4dcb-8224-4455121ee9b0",
        "_uuid": "d629ff2d2480ee46fbb7e2d37f6b5fab8052498a",
        "trusted": true,
        "collapsed": true
      },
      "cell_type": "code",
      "source": "train=pd.read_csv(\"../input/train.csv\")\ntest=pd.read_csv(\"../input/test.csv\")",
      "execution_count": 2,
      "outputs": []
    },
    {
      "metadata": {
        "_uuid": "8e890a6aa7805600cba5e6e91ca49015da2ce651"
      },
      "cell_type": "markdown",
      "source": "## Data Preparation"
    },
    {
      "metadata": {
        "trusted": true,
        "_uuid": "371c496b96aa86161f89dfd2f2ee85000d2944c1"
      },
      "cell_type": "code",
      "source": "train.head()",
      "execution_count": 3,
      "outputs": [
        {
          "output_type": "execute_result",
          "execution_count": 3,
          "data": {
            "text/plain": "           UID  Age Gender    Date Event_Code\n0  Id_e45bbc48   14      F  201205       8707\n1  Id_e45a8472   52      F  201305       7261\n2  Id_e45b20d6   12      F  201212       1967\n3  Id_e45aabad   22      F  201211       7172\n4  Id_e45c5780   73      F  201312       8100",
            "text/html": "<div>\n<style scoped>\n    .dataframe tbody tr th:only-of-type {\n        vertical-align: middle;\n    }\n\n    .dataframe tbody tr th {\n        vertical-align: top;\n    }\n\n    .dataframe thead th {\n        text-align: right;\n    }\n</style>\n<table border=\"1\" class=\"dataframe\">\n  <thead>\n    <tr style=\"text-align: right;\">\n      <th></th>\n      <th>UID</th>\n      <th>Age</th>\n      <th>Gender</th>\n      <th>Date</th>\n      <th>Event_Code</th>\n    </tr>\n  </thead>\n  <tbody>\n    <tr>\n      <th>0</th>\n      <td>Id_e45bbc48</td>\n      <td>14</td>\n      <td>F</td>\n      <td>201205</td>\n      <td>8707</td>\n    </tr>\n    <tr>\n      <th>1</th>\n      <td>Id_e45a8472</td>\n      <td>52</td>\n      <td>F</td>\n      <td>201305</td>\n      <td>7261</td>\n    </tr>\n    <tr>\n      <th>2</th>\n      <td>Id_e45b20d6</td>\n      <td>12</td>\n      <td>F</td>\n      <td>201212</td>\n      <td>1967</td>\n    </tr>\n    <tr>\n      <th>3</th>\n      <td>Id_e45aabad</td>\n      <td>22</td>\n      <td>F</td>\n      <td>201211</td>\n      <td>7172</td>\n    </tr>\n    <tr>\n      <th>4</th>\n      <td>Id_e45c5780</td>\n      <td>73</td>\n      <td>F</td>\n      <td>201312</td>\n      <td>8100</td>\n    </tr>\n  </tbody>\n</table>\n</div>"
          },
          "metadata": {}
        }
      ]
    },
    {
      "metadata": {
        "trusted": true,
        "_uuid": "74c0b68f7467f68a6e8f438acf92b4f6c99c6033",
        "collapsed": true
      },
      "cell_type": "code",
      "source": "train=train.drop(['Age','Gender'],axis=1)",
      "execution_count": 4,
      "outputs": []
    },
    {
      "metadata": {
        "trusted": true,
        "collapsed": true,
        "_uuid": "099b87e238699627f932e539d3f2f3e7cf90e29b"
      },
      "cell_type": "code",
      "source": "# Getting Year from Date\ndef get_year(x):\n    date = str(x)\n    year = date[:4]\n    return year",
      "execution_count": 5,
      "outputs": []
    },
    {
      "metadata": {
        "trusted": true,
        "collapsed": true,
        "_uuid": "af6e5a4b582c956b665d262f4277813c273ee184"
      },
      "cell_type": "code",
      "source": "# Adding the Year column to Train Data\ntrain['Year'] = train.apply(lambda x : get_year(x['Date']), axis=1)",
      "execution_count": 6,
      "outputs": []
    },
    {
      "metadata": {
        "trusted": true,
        "collapsed": true,
        "_uuid": "0426c52e87b71678547f5006cc67948572d3efc4"
      },
      "cell_type": "code",
      "source": "# Getting Month from Date\ndef get_month(x):\n    date = str(x)\n    month = date[4:]\n    return month",
      "execution_count": 7,
      "outputs": []
    },
    {
      "metadata": {
        "trusted": true,
        "collapsed": true,
        "_uuid": "5ea8e4fe60bdaeb0ed2a9b08674fc4e9fe1cd0d4"
      },
      "cell_type": "code",
      "source": "# Adding the Month column to Train Data\ntrain['Month'] = train.apply(lambda x : get_month(x['Date']), axis=1)",
      "execution_count": 8,
      "outputs": []
    },
    {
      "metadata": {
        "trusted": true,
        "_uuid": "42972466d40124ae6405030b90a13df18106f73b"
      },
      "cell_type": "code",
      "source": "train.head()",
      "execution_count": 9,
      "outputs": [
        {
          "output_type": "execute_result",
          "execution_count": 9,
          "data": {
            "text/plain": "           UID    Date Event_Code  Year Month\n0  Id_e45bbc48  201205       8707  2012    05\n1  Id_e45a8472  201305       7261  2013    05\n2  Id_e45b20d6  201212       1967  2012    12\n3  Id_e45aabad  201211       7172  2012    11\n4  Id_e45c5780  201312       8100  2013    12",
            "text/html": "<div>\n<style scoped>\n    .dataframe tbody tr th:only-of-type {\n        vertical-align: middle;\n    }\n\n    .dataframe tbody tr th {\n        vertical-align: top;\n    }\n\n    .dataframe thead th {\n        text-align: right;\n    }\n</style>\n<table border=\"1\" class=\"dataframe\">\n  <thead>\n    <tr style=\"text-align: right;\">\n      <th></th>\n      <th>UID</th>\n      <th>Date</th>\n      <th>Event_Code</th>\n      <th>Year</th>\n      <th>Month</th>\n    </tr>\n  </thead>\n  <tbody>\n    <tr>\n      <th>0</th>\n      <td>Id_e45bbc48</td>\n      <td>201205</td>\n      <td>8707</td>\n      <td>2012</td>\n      <td>05</td>\n    </tr>\n    <tr>\n      <th>1</th>\n      <td>Id_e45a8472</td>\n      <td>201305</td>\n      <td>7261</td>\n      <td>2013</td>\n      <td>05</td>\n    </tr>\n    <tr>\n      <th>2</th>\n      <td>Id_e45b20d6</td>\n      <td>201212</td>\n      <td>1967</td>\n      <td>2012</td>\n      <td>12</td>\n    </tr>\n    <tr>\n      <th>3</th>\n      <td>Id_e45aabad</td>\n      <td>201211</td>\n      <td>7172</td>\n      <td>2012</td>\n      <td>11</td>\n    </tr>\n    <tr>\n      <th>4</th>\n      <td>Id_e45c5780</td>\n      <td>201312</td>\n      <td>8100</td>\n      <td>2013</td>\n      <td>12</td>\n    </tr>\n  </tbody>\n</table>\n</div>"
          },
          "metadata": {}
        }
      ]
    },
    {
      "metadata": {
        "_uuid": "61f8d2f9af6284d4d380af3789e7019719588b20"
      },
      "cell_type": "markdown",
      "source": "### Extracting 10 recent details of patients  "
    },
    {
      "metadata": {
        "trusted": true,
        "_uuid": "e50fd9c6b7757fc60efd856a10c7ef1fc4d0e016",
        "collapsed": true
      },
      "cell_type": "code",
      "source": "pid_list = set(train['UID'])\ntest_df = pd.DataFrame()\nfor item in pid_list:\n    df = train[train['Year']=='2013']\n    df1 = df[df['UID']==item]\n    if df1.shape[0]<10:\n        df1_month = set(df1['Month'])\n        df2 = train[train['Year']=='2012']\n        df3 = df2[df2['UID']==item]\n        df3_month = set(df3['Month'])\n        difference_month = df3_month.difference(df1_month)\n        for m in difference_month:\n            df4 = df3[df3['Month']==m]\n            df1 = df1.append(df4)\n    if df1.shape[0]<10:\n        df1_month = set(df1['Month'])\n        df2 = train[train['Year']=='2011']\n        df3 = df2[df2['UID']==item]\n        df3_month = set(df3['Month'])\n        difference_month = df3_month.difference(df1_month)\n        for m in difference_month:\n            df4 = df3[df3['Month']==m]\n            df1 = df1.append(df4)\n        \n    test_df = test_df.append(df1)  \n    \ntrain = test_df",
      "execution_count": 10,
      "outputs": []
    },
    {
      "metadata": {
        "trusted": true,
        "_uuid": "f1c52fbaa3bd91e7d331e5f4fb873a435c6f8eac"
      },
      "cell_type": "code",
      "source": "train.head(5)",
      "execution_count": 11,
      "outputs": [
        {
          "output_type": "execute_result",
          "execution_count": 11,
          "data": {
            "text/plain": "               UID    Date Event_Code  Year Month\n7465   Id_e45ad297  201307       9637  2013    07\n11934  Id_e45ad297  201304       E878  2013    04\n15813  Id_e45ad297  201312       1955  2013    12\n18711  Id_e45ad297  201307       8472  2013    07\n24987  Id_e45ad297  201304       8102  2013    04",
            "text/html": "<div>\n<style scoped>\n    .dataframe tbody tr th:only-of-type {\n        vertical-align: middle;\n    }\n\n    .dataframe tbody tr th {\n        vertical-align: top;\n    }\n\n    .dataframe thead th {\n        text-align: right;\n    }\n</style>\n<table border=\"1\" class=\"dataframe\">\n  <thead>\n    <tr style=\"text-align: right;\">\n      <th></th>\n      <th>UID</th>\n      <th>Date</th>\n      <th>Event_Code</th>\n      <th>Year</th>\n      <th>Month</th>\n    </tr>\n  </thead>\n  <tbody>\n    <tr>\n      <th>7465</th>\n      <td>Id_e45ad297</td>\n      <td>201307</td>\n      <td>9637</td>\n      <td>2013</td>\n      <td>07</td>\n    </tr>\n    <tr>\n      <th>11934</th>\n      <td>Id_e45ad297</td>\n      <td>201304</td>\n      <td>E878</td>\n      <td>2013</td>\n      <td>04</td>\n    </tr>\n    <tr>\n      <th>15813</th>\n      <td>Id_e45ad297</td>\n      <td>201312</td>\n      <td>1955</td>\n      <td>2013</td>\n      <td>12</td>\n    </tr>\n    <tr>\n      <th>18711</th>\n      <td>Id_e45ad297</td>\n      <td>201307</td>\n      <td>8472</td>\n      <td>2013</td>\n      <td>07</td>\n    </tr>\n    <tr>\n      <th>24987</th>\n      <td>Id_e45ad297</td>\n      <td>201304</td>\n      <td>8102</td>\n      <td>2013</td>\n      <td>04</td>\n    </tr>\n  </tbody>\n</table>\n</div>"
          },
          "metadata": {}
        }
      ]
    },
    {
      "metadata": {
        "_uuid": "6c7b419a89aa61132f07505e944161e16bdb812b"
      },
      "cell_type": "markdown",
      "source": "## Computing the Probability of Occurrence\n### #Formula used : P(E/M) = [ P(M/E)*P(E) ] / P(M)"
    },
    {
      "metadata": {
        "trusted": true,
        "_uuid": "7f00ad870bc1f9385701526f65943ca26eb6e5d4",
        "collapsed": true
      },
      "cell_type": "code",
      "source": "# Probability for Event P(E)\n\nnew_train_df = train.groupby([\"UID\",\"Event_Code\"]).size().reset_index(name=\"count_of_event_for_patient\")\ntrial_train = train.merge(new_train_df, on = ['UID','Event_Code'])\n\nnew_train_df1 = train.groupby([\"UID\"]).size().reset_index(name=\"total_events_for_patient\") \ntrial_train = trial_train.merge(new_train_df1, on = ['UID'])\n\ntrial_train['prob_of_event'] = trial_train['count_of_event_for_patient'] / trial_train['total_events_for_patient']\n\ntrain = trial_train",
      "execution_count": 12,
      "outputs": []
    },
    {
      "metadata": {
        "trusted": true,
        "_uuid": "0ffdb70be1fad619d37cb4d941c2b498b7605430"
      },
      "cell_type": "code",
      "source": "train.head()",
      "execution_count": 13,
      "outputs": [
        {
          "output_type": "execute_result",
          "execution_count": 13,
          "data": {
            "text/plain": "           UID    Date      ...      total_events_for_patient prob_of_event\n0  Id_e45ad297  201307      ...                           113      0.026549\n1  Id_e45ad297  201307      ...                           113      0.026549\n2  Id_e45ad297  201307      ...                           113      0.026549\n3  Id_e45ad297  201304      ...                           113      0.008850\n4  Id_e45ad297  201312      ...                           113      0.008850\n\n[5 rows x 8 columns]",
            "text/html": "<div>\n<style scoped>\n    .dataframe tbody tr th:only-of-type {\n        vertical-align: middle;\n    }\n\n    .dataframe tbody tr th {\n        vertical-align: top;\n    }\n\n    .dataframe thead th {\n        text-align: right;\n    }\n</style>\n<table border=\"1\" class=\"dataframe\">\n  <thead>\n    <tr style=\"text-align: right;\">\n      <th></th>\n      <th>UID</th>\n      <th>Date</th>\n      <th>Event_Code</th>\n      <th>Year</th>\n      <th>Month</th>\n      <th>count_of_event_for_patient</th>\n      <th>total_events_for_patient</th>\n      <th>prob_of_event</th>\n    </tr>\n  </thead>\n  <tbody>\n    <tr>\n      <th>0</th>\n      <td>Id_e45ad297</td>\n      <td>201307</td>\n      <td>9637</td>\n      <td>2013</td>\n      <td>07</td>\n      <td>3</td>\n      <td>113</td>\n      <td>0.026549</td>\n    </tr>\n    <tr>\n      <th>1</th>\n      <td>Id_e45ad297</td>\n      <td>201307</td>\n      <td>9637</td>\n      <td>2013</td>\n      <td>07</td>\n      <td>3</td>\n      <td>113</td>\n      <td>0.026549</td>\n    </tr>\n    <tr>\n      <th>2</th>\n      <td>Id_e45ad297</td>\n      <td>201307</td>\n      <td>9637</td>\n      <td>2013</td>\n      <td>07</td>\n      <td>3</td>\n      <td>113</td>\n      <td>0.026549</td>\n    </tr>\n    <tr>\n      <th>3</th>\n      <td>Id_e45ad297</td>\n      <td>201304</td>\n      <td>E878</td>\n      <td>2013</td>\n      <td>04</td>\n      <td>1</td>\n      <td>113</td>\n      <td>0.008850</td>\n    </tr>\n    <tr>\n      <th>4</th>\n      <td>Id_e45ad297</td>\n      <td>201312</td>\n      <td>1955</td>\n      <td>2013</td>\n      <td>12</td>\n      <td>1</td>\n      <td>113</td>\n      <td>0.008850</td>\n    </tr>\n  </tbody>\n</table>\n</div>"
          },
          "metadata": {}
        }
      ]
    },
    {
      "metadata": {
        "trusted": true,
        "collapsed": true,
        "_uuid": "ce4495b75388ffcfc91a160a3f9bc026a3a049f2"
      },
      "cell_type": "code",
      "source": "# Probability for Month P(M)\n\nnew_train_df = train.groupby([\"UID\",\"Month\"]).size().reset_index(name=\"count_of_month_for_patient\")\ntrial_train = train.merge(new_train_df, on = ['UID','Month'])\n\nnew_train_df1 = train.groupby([\"UID\"]).size().reset_index(name=\"total_months_for_patient\") \ntrial_train = trial_train.merge(new_train_df1, on = ['UID'])\n\ntrial_train['prob_of_month'] = trial_train['count_of_month_for_patient'] / trial_train['total_months_for_patient']\ntrain = trial_train",
      "execution_count": 14,
      "outputs": []
    },
    {
      "metadata": {
        "trusted": true,
        "_uuid": "cf14961509cb52470bb790d2c93277008d0b8b29",
        "collapsed": true
      },
      "cell_type": "code",
      "source": "# Probability of Month Given the Event P(M/E)\n\nnew_train_df = train.groupby([\"UID\",\"Event_Code\",\"Month\"]).size().reset_index(name=\"count_of_month_and_event_for_patient\")\ntrial_train = train.merge(new_train_df, on = ['UID','Event_Code','Month'])\n\nnew_train_df1 = train.groupby([\"UID\"]).size().reset_index(name=\"total_event_for_patient_when_month\") \ntrial_train = trial_train.merge(new_train_df1, on = ['UID'])\n\ntrial_train['prob_of_month_when_event'] = trial_train['count_of_month_and_event_for_patient'] / trial_train['total_event_for_patient_when_month']\ntrain = trial_train",
      "execution_count": 15,
      "outputs": []
    },
    {
      "metadata": {
        "trusted": true,
        "collapsed": true,
        "_uuid": "47d3f1e3923d6728baf3e44190c714608d842370"
      },
      "cell_type": "code",
      "source": "# Computing the Probability\ntrain['prob_of_occurrence'] = (train['prob_of_month_when_event']*train['prob_of_event']) / train['prob_of_month']\nnew_sort = train",
      "execution_count": 16,
      "outputs": []
    },
    {
      "metadata": {
        "trusted": true,
        "_uuid": "8a01af701181488876054704b8453f279c7058f9",
        "collapsed": true
      },
      "cell_type": "code",
      "source": "# Extracting the Top 10 probability Events\nfreq_events1 = pd.crosstab(index=[new_sort['UID']],columns=new_sort['Event_Code'], values = new_sort['prob_of_occurrence'], aggfunc=np.mean)\nfreq_events1.fillna(0)\nfreq_events1.reset_index(drop=False, inplace=True)\n\nsubmit = freq_events1.loc[:,freq_events1.columns != 'UID'].apply(lambda x: pd.Series(x.sort_values(ascending=False).iloc[:10].index, index=['Event'+str(x) for x in range(1,11)]),axis=1).reset_index()\nsubmit.drop('index',inplace=True, axis=1)\n\nsubmit['UID'] = freq_events1['UID']\n\ncols = submit.columns.tolist()\ncols = cols[-1:] + cols[:-1]\nsubmit = submit[cols]",
      "execution_count": 17,
      "outputs": []
    },
    {
      "metadata": {
        "trusted": true,
        "_uuid": "375ba6fa2b09fca7ff174f930ffcdb554767aad8"
      },
      "cell_type": "code",
      "source": "submit",
      "execution_count": 18,
      "outputs": [
        {
          "output_type": "execute_result",
          "execution_count": 18,
          "data": {
            "text/plain": "              UID Event1 Event2 Event3   ...   Event7 Event8 Event9 Event10\n0     Id_e45a3682   2214   3258   7087   ...     3180   2015   2761    9231\n1     Id_e45a3683   2773   3489   8100   ...     7685   9921   8502    5815\n2     Id_e45a3684   3273   2735   2334   ...     V586   3641   V588    8561\n3     Id_e45a3685   2706   1975   3614   ...     7194   7159   2500    9921\n4     Id_e45a3686   2687   3194   2674   ...     2710   3641   8502    8004\n5     Id_e45a3687   9714   9701   3556   ...     7705   V761   G020    2788\n6     Id_e45a3688   2656   3579   2766   ...     2550   3715   2942    2335\n7     Id_e45a3689   2645   3749   2836   ...     1975   2780   2270    9920\n8     Id_e45a368a   3591   3510   3486   ...     3320   3673   2024    3509\n9     Id_e45a368b   2775   9923   9921   ...     2693   3731   3432    5964\n10    Id_e45a368c   3468   2674   3266   ...     2724   2449   V127    8830\n11    Id_e45a368d   2528   3478   9921   ...     2681   2970   2777    2720\n12    Id_e45a368e   G018   V548   7159   ...     7169   2744   7140    9920\n13    Id_e45a368f   2334   2970   9921   ...     4610   9928   8788     462\n14    Id_e45a3690   4137   7890   9921   ...     7840   3074   3106    4659\n15    Id_e45a3691   3221   2340   2490   ...     2690   7132   2828    2582\n16    Id_e45a3692   3220   3531   3081   ...     2111   2269   3454    J117\n17    Id_e45a3693   3245   3706   2229   ...     3264   3814   3767    2500\n18    Id_e45a3694   2972   3657   9894   ...     3263   7232   4100    3078\n19    Id_e45a3695   2646   3576   6449   ...     7159   8230   8006    8005\n20    Id_e45a3696   1970   2976   2570   ...     2111   7890   4848    2533\n21    Id_e45a3697   3533   2674   2645   ...     2724   2500   0001    0010\n22    Id_e45a3698   2392   1101   1172   ...     9921   8420   1110    1700\n23    Id_e45a3699   2094   9920   8830   ...     L390   9924   9231    8420\n24    Id_e45a369a   3678   2630   9921   ...     9201   2426   7862    3661\n25    Id_e45a369b   8100   V221   3641   ...     7680   8708   V242    9921\n26    Id_e45a369c   7295   3647   4541   ...     9921   1016   7902    2780\n27    Id_e45a369d   2674   3433   3485   ...     3074   9410   7826    V761\n28    Id_e45a369e   3492   3157   2303   ...     5308   4740   4781    4741\n29    Id_e45a369f   3002   9080   9921   ...     3841   7681   4779    4939\n...           ...    ...    ...    ...   ...      ...    ...    ...     ...\n2970  Id_e45d67e1    311   9080   9084   ...     2614   1004   3092    2615\n2971  Id_e45d67e2   3454   7132   2942   ...     7890   9637   5210    5259\n2972  Id_e45d67e3   2094   2671   2717   ...     V745   V739   V723    8502\n2973  Id_e45d67e4   4097   3040   3000   ...     8100   V771   9938    9900\n2974  Id_e45d67e5   3516   2674   3377   ...     8444   3425   3485    2449\n2975  Id_e45d67e6   3145   3165   8502   ...     8005   2769   2720    3244\n2976  Id_e45d67e7   1817   3074   7653   ...     9921   5301   2461    2104\n2977  Id_e45d67e8   8255   3679   9200   ...     7865   9921   4011    7242\n2978  Id_e45d67e9   9080   V700   V853   ...     2960   9921   8006    2967\n2979  Id_e45d67ea   3641   8502   2859   ...     3051   3643   8692    8687\n2980  Id_e45d67eb   2674   3000   3180   ...     2191   7807   V723    9939\n2981  Id_e45d67ec   9921   V222    650   ...     2847   8708   6558    6581\n2982  Id_e45d67ed   8005   9928   7999   ...     4660   V238   V119    8670\n2983  Id_e45d67ee   9921   3801   V061   ...     5859   4039   2809    2724\n2984  Id_e45d67ef   6117   8707   9637   ...     9928   9476   7800    7241\n2985  Id_e45d67f0   V221   9921   8100   ...     5745   7680   V283    V251\n2986  Id_e45d67f1   9921   4619   8788   ...     8444   8443   8296    8005\n2987  Id_e45d67f2   2422   3243   3485   ...     9921   9920   5308    4939\n2988  Id_e45d67f3   3638   2514   3219   ...     4857   3373   7151    9921\n2989  Id_e45d67f4   V220   9921   4848   ...     6117   8100   V250    A042\n2990  Id_e45d67f5   3074   V723   2382   ...     9921   8830   3162    1120\n2991  Id_e45d67f6   5210   V654   9921   ...     V724   V254   9900    V259\n2992  Id_e45d67f7   4019   2520   9928   ...     4739   7865   7909    7807\n2993  Id_e45d67f8   2178   9208   3651   ...     7705   4619   3081    0001\n2994  Id_e45d67f9   5970   V270   V025   ...      650   6231   3516    0001\n2995  Id_e45d67fa   2449   9921   3254   ...     7805   7807   2674    4659\n2996  Id_e45d67fb   3464   3451   4879   ...     4033   9928   3074    7132\n2997  Id_e45d67fc   G039   3039   9921   ...     8257   8010   9047    V250\n2998  Id_e45d67fd   2659   3082   3208   ...     2782   V679   2384    4912\n2999  Id_e45d67fe   9921   7860   4659   ...     7102   2720   3672    5199\n\n[3000 rows x 11 columns]",
            "text/html": "<div>\n<style scoped>\n    .dataframe tbody tr th:only-of-type {\n        vertical-align: middle;\n    }\n\n    .dataframe tbody tr th {\n        vertical-align: top;\n    }\n\n    .dataframe thead th {\n        text-align: right;\n    }\n</style>\n<table border=\"1\" class=\"dataframe\">\n  <thead>\n    <tr style=\"text-align: right;\">\n      <th></th>\n      <th>UID</th>\n      <th>Event1</th>\n      <th>Event2</th>\n      <th>Event3</th>\n      <th>Event4</th>\n      <th>Event5</th>\n      <th>Event6</th>\n      <th>Event7</th>\n      <th>Event8</th>\n      <th>Event9</th>\n      <th>Event10</th>\n    </tr>\n  </thead>\n  <tbody>\n    <tr>\n      <th>0</th>\n      <td>Id_e45a3682</td>\n      <td>2214</td>\n      <td>3258</td>\n      <td>7087</td>\n      <td>8561</td>\n      <td>8501</td>\n      <td>3641</td>\n      <td>3180</td>\n      <td>2015</td>\n      <td>2761</td>\n      <td>9231</td>\n    </tr>\n    <tr>\n      <th>1</th>\n      <td>Id_e45a3683</td>\n      <td>2773</td>\n      <td>3489</td>\n      <td>8100</td>\n      <td>8708</td>\n      <td>2189</td>\n      <td>7807</td>\n      <td>7685</td>\n      <td>9921</td>\n      <td>8502</td>\n      <td>5815</td>\n    </tr>\n    <tr>\n      <th>2</th>\n      <td>Id_e45a3684</td>\n      <td>3273</td>\n      <td>2735</td>\n      <td>2334</td>\n      <td>3417</td>\n      <td>3614</td>\n      <td>4273</td>\n      <td>V586</td>\n      <td>3641</td>\n      <td>V588</td>\n      <td>8561</td>\n    </tr>\n    <tr>\n      <th>3</th>\n      <td>Id_e45a3685</td>\n      <td>2706</td>\n      <td>1975</td>\n      <td>3614</td>\n      <td>3131</td>\n      <td>2533</td>\n      <td>2657</td>\n      <td>7194</td>\n      <td>7159</td>\n      <td>2500</td>\n      <td>9921</td>\n    </tr>\n    <tr>\n      <th>4</th>\n      <td>Id_e45a3686</td>\n      <td>2687</td>\n      <td>3194</td>\n      <td>2674</td>\n      <td>7109</td>\n      <td>5990</td>\n      <td>2541</td>\n      <td>2710</td>\n      <td>3641</td>\n      <td>8502</td>\n      <td>8004</td>\n    </tr>\n    <tr>\n      <th>5</th>\n      <td>Id_e45a3687</td>\n      <td>9714</td>\n      <td>9701</td>\n      <td>3556</td>\n      <td>7151</td>\n      <td>7241</td>\n      <td>3082</td>\n      <td>7705</td>\n      <td>V761</td>\n      <td>G020</td>\n      <td>2788</td>\n    </tr>\n    <tr>\n      <th>6</th>\n      <td>Id_e45a3688</td>\n      <td>2656</td>\n      <td>3579</td>\n      <td>2766</td>\n      <td>311</td>\n      <td>3372</td>\n      <td>4847</td>\n      <td>2550</td>\n      <td>3715</td>\n      <td>2942</td>\n      <td>2335</td>\n    </tr>\n    <tr>\n      <th>7</th>\n      <td>Id_e45a3689</td>\n      <td>2645</td>\n      <td>3749</td>\n      <td>2836</td>\n      <td>2189</td>\n      <td>3466</td>\n      <td>3475</td>\n      <td>1975</td>\n      <td>2780</td>\n      <td>2270</td>\n      <td>9920</td>\n    </tr>\n    <tr>\n      <th>8</th>\n      <td>Id_e45a368a</td>\n      <td>3591</td>\n      <td>3510</td>\n      <td>3486</td>\n      <td>3615</td>\n      <td>3213</td>\n      <td>3454</td>\n      <td>3320</td>\n      <td>3673</td>\n      <td>2024</td>\n      <td>3509</td>\n    </tr>\n    <tr>\n      <th>9</th>\n      <td>Id_e45a368b</td>\n      <td>2775</td>\n      <td>9923</td>\n      <td>9921</td>\n      <td>532</td>\n      <td>9961</td>\n      <td>3721</td>\n      <td>2693</td>\n      <td>3731</td>\n      <td>3432</td>\n      <td>5964</td>\n    </tr>\n    <tr>\n      <th>10</th>\n      <td>Id_e45a368c</td>\n      <td>3468</td>\n      <td>2674</td>\n      <td>3266</td>\n      <td>3475</td>\n      <td>3620</td>\n      <td>4019</td>\n      <td>2724</td>\n      <td>2449</td>\n      <td>V127</td>\n      <td>8830</td>\n    </tr>\n    <tr>\n      <th>11</th>\n      <td>Id_e45a368d</td>\n      <td>2528</td>\n      <td>3478</td>\n      <td>9921</td>\n      <td>2500</td>\n      <td>7244</td>\n      <td>3042</td>\n      <td>2681</td>\n      <td>2970</td>\n      <td>2777</td>\n      <td>2720</td>\n    </tr>\n    <tr>\n      <th>12</th>\n      <td>Id_e45a368e</td>\n      <td>G018</td>\n      <td>V548</td>\n      <td>7159</td>\n      <td>8561</td>\n      <td>3641</td>\n      <td>7356</td>\n      <td>7169</td>\n      <td>2744</td>\n      <td>7140</td>\n      <td>9920</td>\n    </tr>\n    <tr>\n      <th>13</th>\n      <td>Id_e45a368f</td>\n      <td>2334</td>\n      <td>2970</td>\n      <td>9921</td>\n      <td>9939</td>\n      <td>V202</td>\n      <td>2649</td>\n      <td>4610</td>\n      <td>9928</td>\n      <td>8788</td>\n      <td>462</td>\n    </tr>\n    <tr>\n      <th>14</th>\n      <td>Id_e45a3690</td>\n      <td>4137</td>\n      <td>7890</td>\n      <td>9921</td>\n      <td>3454</td>\n      <td>4120</td>\n      <td>9928</td>\n      <td>7840</td>\n      <td>3074</td>\n      <td>3106</td>\n      <td>4659</td>\n    </tr>\n    <tr>\n      <th>15</th>\n      <td>Id_e45a3691</td>\n      <td>3221</td>\n      <td>2340</td>\n      <td>2490</td>\n      <td>2111</td>\n      <td>3228</td>\n      <td>4848</td>\n      <td>2690</td>\n      <td>7132</td>\n      <td>2828</td>\n      <td>2582</td>\n    </tr>\n    <tr>\n      <th>16</th>\n      <td>Id_e45a3692</td>\n      <td>3220</td>\n      <td>3531</td>\n      <td>3081</td>\n      <td>2638</td>\n      <td>2731</td>\n      <td>3033</td>\n      <td>2111</td>\n      <td>2269</td>\n      <td>3454</td>\n      <td>J117</td>\n    </tr>\n    <tr>\n      <th>17</th>\n      <td>Id_e45a3693</td>\n      <td>3245</td>\n      <td>3706</td>\n      <td>2229</td>\n      <td>3083</td>\n      <td>1775</td>\n      <td>2325</td>\n      <td>3264</td>\n      <td>3814</td>\n      <td>3767</td>\n      <td>2500</td>\n    </tr>\n    <tr>\n      <th>18</th>\n      <td>Id_e45a3694</td>\n      <td>2972</td>\n      <td>3657</td>\n      <td>9894</td>\n      <td>9714</td>\n      <td>9712</td>\n      <td>3332</td>\n      <td>3263</td>\n      <td>7232</td>\n      <td>4100</td>\n      <td>3078</td>\n    </tr>\n    <tr>\n      <th>19</th>\n      <td>Id_e45a3695</td>\n      <td>2646</td>\n      <td>3576</td>\n      <td>6449</td>\n      <td>7242</td>\n      <td>3641</td>\n      <td>8502</td>\n      <td>7159</td>\n      <td>8230</td>\n      <td>8006</td>\n      <td>8005</td>\n    </tr>\n    <tr>\n      <th>20</th>\n      <td>Id_e45a3696</td>\n      <td>1970</td>\n      <td>2976</td>\n      <td>2570</td>\n      <td>3208</td>\n      <td>3688</td>\n      <td>3628</td>\n      <td>2111</td>\n      <td>7890</td>\n      <td>4848</td>\n      <td>2533</td>\n    </tr>\n    <tr>\n      <th>21</th>\n      <td>Id_e45a3697</td>\n      <td>3533</td>\n      <td>2674</td>\n      <td>2645</td>\n      <td>9921</td>\n      <td>4019</td>\n      <td>3641</td>\n      <td>2724</td>\n      <td>2500</td>\n      <td>0001</td>\n      <td>0010</td>\n    </tr>\n    <tr>\n      <th>22</th>\n      <td>Id_e45a3698</td>\n      <td>2392</td>\n      <td>1101</td>\n      <td>1172</td>\n      <td>7295</td>\n      <td>3201</td>\n      <td>7417</td>\n      <td>9921</td>\n      <td>8420</td>\n      <td>1110</td>\n      <td>1700</td>\n    </tr>\n    <tr>\n      <th>23</th>\n      <td>Id_e45a3699</td>\n      <td>2094</td>\n      <td>9920</td>\n      <td>8830</td>\n      <td>2382</td>\n      <td>2167</td>\n      <td>1140</td>\n      <td>L390</td>\n      <td>9924</td>\n      <td>9231</td>\n      <td>8420</td>\n    </tr>\n    <tr>\n      <th>24</th>\n      <td>Id_e45a369a</td>\n      <td>3678</td>\n      <td>2630</td>\n      <td>9921</td>\n      <td>3220</td>\n      <td>3470</td>\n      <td>3623</td>\n      <td>9201</td>\n      <td>2426</td>\n      <td>7862</td>\n      <td>3661</td>\n    </tr>\n    <tr>\n      <th>25</th>\n      <td>Id_e45a369b</td>\n      <td>8100</td>\n      <td>V221</td>\n      <td>3641</td>\n      <td>8470</td>\n      <td>6542</td>\n      <td>V283</td>\n      <td>7680</td>\n      <td>8708</td>\n      <td>V242</td>\n      <td>9921</td>\n    </tr>\n    <tr>\n      <th>26</th>\n      <td>Id_e45a369c</td>\n      <td>7295</td>\n      <td>3647</td>\n      <td>4541</td>\n      <td>2638</td>\n      <td>7694</td>\n      <td>9397</td>\n      <td>9921</td>\n      <td>1016</td>\n      <td>7902</td>\n      <td>2780</td>\n    </tr>\n    <tr>\n      <th>27</th>\n      <td>Id_e45a369d</td>\n      <td>2674</td>\n      <td>3433</td>\n      <td>3485</td>\n      <td>3587</td>\n      <td>G020</td>\n      <td>7705</td>\n      <td>3074</td>\n      <td>9410</td>\n      <td>7826</td>\n      <td>V761</td>\n    </tr>\n    <tr>\n      <th>28</th>\n      <td>Id_e45a369e</td>\n      <td>3492</td>\n      <td>3157</td>\n      <td>2303</td>\n      <td>7844</td>\n      <td>4782</td>\n      <td>9920</td>\n      <td>5308</td>\n      <td>4740</td>\n      <td>4781</td>\n      <td>4741</td>\n    </tr>\n    <tr>\n      <th>29</th>\n      <td>Id_e45a369f</td>\n      <td>3002</td>\n      <td>9080</td>\n      <td>9921</td>\n      <td>3074</td>\n      <td>486</td>\n      <td>6400</td>\n      <td>3841</td>\n      <td>7681</td>\n      <td>4779</td>\n      <td>4939</td>\n    </tr>\n    <tr>\n      <th>...</th>\n      <td>...</td>\n      <td>...</td>\n      <td>...</td>\n      <td>...</td>\n      <td>...</td>\n      <td>...</td>\n      <td>...</td>\n      <td>...</td>\n      <td>...</td>\n      <td>...</td>\n      <td>...</td>\n    </tr>\n    <tr>\n      <th>2970</th>\n      <td>Id_e45d67e1</td>\n      <td>311</td>\n      <td>9080</td>\n      <td>9084</td>\n      <td>7061</td>\n      <td>9921</td>\n      <td>2661</td>\n      <td>2614</td>\n      <td>1004</td>\n      <td>3092</td>\n      <td>2615</td>\n    </tr>\n    <tr>\n      <th>2971</th>\n      <td>Id_e45d67e2</td>\n      <td>3454</td>\n      <td>7132</td>\n      <td>2942</td>\n      <td>9928</td>\n      <td>3051</td>\n      <td>5920</td>\n      <td>7890</td>\n      <td>9637</td>\n      <td>5210</td>\n      <td>5259</td>\n    </tr>\n    <tr>\n      <th>2972</th>\n      <td>Id_e45d67e3</td>\n      <td>2094</td>\n      <td>2671</td>\n      <td>2717</td>\n      <td>2464</td>\n      <td>3574</td>\n      <td>V761</td>\n      <td>V745</td>\n      <td>V739</td>\n      <td>V723</td>\n      <td>8502</td>\n    </tr>\n    <tr>\n      <th>2973</th>\n      <td>Id_e45d67e4</td>\n      <td>4097</td>\n      <td>3040</td>\n      <td>3000</td>\n      <td>9921</td>\n      <td>2469</td>\n      <td>8010</td>\n      <td>8100</td>\n      <td>V771</td>\n      <td>9938</td>\n      <td>9900</td>\n    </tr>\n    <tr>\n      <th>2974</th>\n      <td>Id_e45d67e5</td>\n      <td>3516</td>\n      <td>2674</td>\n      <td>3377</td>\n      <td>7890</td>\n      <td>3625</td>\n      <td>2339</td>\n      <td>8444</td>\n      <td>3425</td>\n      <td>3485</td>\n      <td>2449</td>\n    </tr>\n    <tr>\n      <th>2975</th>\n      <td>Id_e45d67e6</td>\n      <td>3145</td>\n      <td>3165</td>\n      <td>8502</td>\n      <td>8444</td>\n      <td>8260</td>\n      <td>8006</td>\n      <td>8005</td>\n      <td>2769</td>\n      <td>2720</td>\n      <td>3244</td>\n    </tr>\n    <tr>\n      <th>2976</th>\n      <td>Id_e45d67e7</td>\n      <td>1817</td>\n      <td>3074</td>\n      <td>7653</td>\n      <td>3254</td>\n      <td>2409</td>\n      <td>2221</td>\n      <td>9921</td>\n      <td>5301</td>\n      <td>2461</td>\n      <td>2104</td>\n    </tr>\n    <tr>\n      <th>2977</th>\n      <td>Id_e45d67e8</td>\n      <td>8255</td>\n      <td>3679</td>\n      <td>9200</td>\n      <td>V410</td>\n      <td>4019</td>\n      <td>4278</td>\n      <td>7865</td>\n      <td>9921</td>\n      <td>4011</td>\n      <td>7242</td>\n    </tr>\n    <tr>\n      <th>2978</th>\n      <td>Id_e45d67e9</td>\n      <td>9080</td>\n      <td>V700</td>\n      <td>V853</td>\n      <td>7245</td>\n      <td>9920</td>\n      <td>7231</td>\n      <td>2960</td>\n      <td>9921</td>\n      <td>8006</td>\n      <td>2967</td>\n    </tr>\n    <tr>\n      <th>2979</th>\n      <td>Id_e45d67ea</td>\n      <td>3641</td>\n      <td>8502</td>\n      <td>2859</td>\n      <td>5789</td>\n      <td>P901</td>\n      <td>8690</td>\n      <td>3051</td>\n      <td>3643</td>\n      <td>8692</td>\n      <td>8687</td>\n    </tr>\n    <tr>\n      <th>2980</th>\n      <td>Id_e45d67eb</td>\n      <td>2674</td>\n      <td>3000</td>\n      <td>3180</td>\n      <td>3544</td>\n      <td>9921</td>\n      <td>3382</td>\n      <td>2191</td>\n      <td>7807</td>\n      <td>V723</td>\n      <td>9939</td>\n    </tr>\n    <tr>\n      <th>2981</th>\n      <td>Id_e45d67ec</td>\n      <td>9921</td>\n      <td>V222</td>\n      <td>650</td>\n      <td>7680</td>\n      <td>7890</td>\n      <td>7040</td>\n      <td>2847</td>\n      <td>8708</td>\n      <td>6558</td>\n      <td>6581</td>\n    </tr>\n    <tr>\n      <th>2982</th>\n      <td>Id_e45d67ed</td>\n      <td>8005</td>\n      <td>9928</td>\n      <td>7999</td>\n      <td>7870</td>\n      <td>7840</td>\n      <td>7101</td>\n      <td>4660</td>\n      <td>V238</td>\n      <td>V119</td>\n      <td>8670</td>\n    </tr>\n    <tr>\n      <th>2983</th>\n      <td>Id_e45d67ee</td>\n      <td>9921</td>\n      <td>3801</td>\n      <td>V061</td>\n      <td>9071</td>\n      <td>9047</td>\n      <td>6117</td>\n      <td>5859</td>\n      <td>4039</td>\n      <td>2809</td>\n      <td>2724</td>\n    </tr>\n    <tr>\n      <th>2984</th>\n      <td>Id_e45d67ef</td>\n      <td>6117</td>\n      <td>8707</td>\n      <td>9637</td>\n      <td>J240</td>\n      <td>J188</td>\n      <td>4019</td>\n      <td>9928</td>\n      <td>9476</td>\n      <td>7800</td>\n      <td>7241</td>\n    </tr>\n    <tr>\n      <th>2985</th>\n      <td>Id_e45d67f0</td>\n      <td>V221</td>\n      <td>9921</td>\n      <td>8100</td>\n      <td>V724</td>\n      <td>8102</td>\n      <td>V709</td>\n      <td>5745</td>\n      <td>7680</td>\n      <td>V283</td>\n      <td>V251</td>\n    </tr>\n    <tr>\n      <th>2986</th>\n      <td>Id_e45d67f1</td>\n      <td>9921</td>\n      <td>4619</td>\n      <td>8788</td>\n      <td>9300</td>\n      <td>8502</td>\n      <td>8501</td>\n      <td>8444</td>\n      <td>8443</td>\n      <td>8296</td>\n      <td>8005</td>\n    </tr>\n    <tr>\n      <th>2987</th>\n      <td>Id_e45d67f2</td>\n      <td>2422</td>\n      <td>3243</td>\n      <td>3485</td>\n      <td>1824</td>\n      <td>2406</td>\n      <td>3338</td>\n      <td>9921</td>\n      <td>9920</td>\n      <td>5308</td>\n      <td>4939</td>\n    </tr>\n    <tr>\n      <th>2988</th>\n      <td>Id_e45d67f3</td>\n      <td>3638</td>\n      <td>2514</td>\n      <td>3219</td>\n      <td>3220</td>\n      <td>3639</td>\n      <td>3647</td>\n      <td>4857</td>\n      <td>3373</td>\n      <td>7151</td>\n      <td>9921</td>\n    </tr>\n    <tr>\n      <th>2989</th>\n      <td>Id_e45d67f4</td>\n      <td>V220</td>\n      <td>9921</td>\n      <td>4848</td>\n      <td>A426</td>\n      <td>6558</td>\n      <td>6489</td>\n      <td>6117</td>\n      <td>8100</td>\n      <td>V250</td>\n      <td>A042</td>\n    </tr>\n    <tr>\n      <th>2990</th>\n      <td>Id_e45d67f5</td>\n      <td>3074</td>\n      <td>V723</td>\n      <td>2382</td>\n      <td>V726</td>\n      <td>9939</td>\n      <td>8100</td>\n      <td>9921</td>\n      <td>8830</td>\n      <td>3162</td>\n      <td>1120</td>\n    </tr>\n    <tr>\n      <th>2991</th>\n      <td>Id_e45d67f6</td>\n      <td>5210</td>\n      <td>V654</td>\n      <td>9921</td>\n      <td>8102</td>\n      <td>D239</td>\n      <td>D214</td>\n      <td>V724</td>\n      <td>V254</td>\n      <td>9900</td>\n      <td>V259</td>\n    </tr>\n    <tr>\n      <th>2992</th>\n      <td>Id_e45d67f7</td>\n      <td>4019</td>\n      <td>2520</td>\n      <td>9928</td>\n      <td>9921</td>\n      <td>2271</td>\n      <td>2754</td>\n      <td>4739</td>\n      <td>7865</td>\n      <td>7909</td>\n      <td>7807</td>\n    </tr>\n    <tr>\n      <th>2993</th>\n      <td>Id_e45d67f8</td>\n      <td>2178</td>\n      <td>9208</td>\n      <td>3651</td>\n      <td>V761</td>\n      <td>G020</td>\n      <td>9921</td>\n      <td>7705</td>\n      <td>4619</td>\n      <td>3081</td>\n      <td>0001</td>\n    </tr>\n    <tr>\n      <th>2994</th>\n      <td>Id_e45d67f9</td>\n      <td>5970</td>\n      <td>V270</td>\n      <td>V025</td>\n      <td>6640</td>\n      <td>6633</td>\n      <td>6489</td>\n      <td>650</td>\n      <td>6231</td>\n      <td>3516</td>\n      <td>0001</td>\n    </tr>\n    <tr>\n      <th>2995</th>\n      <td>Id_e45d67fa</td>\n      <td>2449</td>\n      <td>9921</td>\n      <td>3254</td>\n      <td>7851</td>\n      <td>3469</td>\n      <td>2620</td>\n      <td>7805</td>\n      <td>7807</td>\n      <td>2674</td>\n      <td>4659</td>\n    </tr>\n    <tr>\n      <th>2996</th>\n      <td>Id_e45d67fb</td>\n      <td>3464</td>\n      <td>3451</td>\n      <td>4879</td>\n      <td>1932</td>\n      <td>2761</td>\n      <td>9921</td>\n      <td>4033</td>\n      <td>9928</td>\n      <td>3074</td>\n      <td>7132</td>\n    </tr>\n    <tr>\n      <th>2997</th>\n      <td>Id_e45d67fc</td>\n      <td>G039</td>\n      <td>3039</td>\n      <td>9921</td>\n      <td>H000</td>\n      <td>3000</td>\n      <td>V703</td>\n      <td>8257</td>\n      <td>8010</td>\n      <td>9047</td>\n      <td>V250</td>\n    </tr>\n    <tr>\n      <th>2998</th>\n      <td>Id_e45d67fd</td>\n      <td>2659</td>\n      <td>3082</td>\n      <td>3208</td>\n      <td>2334</td>\n      <td>3628</td>\n      <td>3220</td>\n      <td>2782</td>\n      <td>V679</td>\n      <td>2384</td>\n      <td>4912</td>\n    </tr>\n    <tr>\n      <th>2999</th>\n      <td>Id_e45d67fe</td>\n      <td>9921</td>\n      <td>7860</td>\n      <td>4659</td>\n      <td>486</td>\n      <td>490</td>\n      <td>7865</td>\n      <td>7102</td>\n      <td>2720</td>\n      <td>3672</td>\n      <td>5199</td>\n    </tr>\n  </tbody>\n</table>\n<p>3000 rows × 11 columns</p>\n</div>"
          },
          "metadata": {}
        }
      ]
    },
    {
      "metadata": {
        "trusted": true,
        "_uuid": "023f599085d752e9f2a60815f0b85554f757a875",
        "collapsed": true
      },
      "cell_type": "code",
      "source": "# final submission\nsubmit.to_csv(\"submission.csv\", index=False)",
      "execution_count": 19,
      "outputs": []
    }
  ],
  "metadata": {
    "kernelspec": {
      "display_name": "Python 3",
      "language": "python",
      "name": "python3"
    },
    "language_info": {
      "name": "python",
      "version": "3.6.6",
      "mimetype": "text/x-python",
      "codemirror_mode": {
        "name": "ipython",
        "version": 3
      },
      "pygments_lexer": "ipython3",
      "nbconvert_exporter": "python",
      "file_extension": ".py"
    }
  },
  "nbformat": 4,
  "nbformat_minor": 1
}